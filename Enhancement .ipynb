{
 "cells": [
  {
   "cell_type": "code",
   "execution_count": 29,
   "id": "a6fa3cbb",
   "metadata": {},
   "outputs": [],
   "source": [
    "import pandas as pd\n",
    "import numpy as np\n",
    "import matplotlib.pyplot as plt\n",
    "from scipy.io import arff\n",
    "from sklearn.preprocessing import StandardScaler\n",
    "from sklearn.decomposition import PCA\n",
    "from sklearn.linear_model import LogisticRegression\n",
    "from sklearn.model_selection import GridSearchCV\n",
    "from sklearn.model_selection import train_test_split\n",
    "from sklearn.pipeline import Pipeline\n",
    "from sklearn.metrics import classification_report\n",
    "from sklearn.neighbors import KNeighborsClassifier\n",
    "from sklearn.svm import SVC\n",
    "from sklearn.ensemble import RandomForestClassifier\n",
    "from sklearn.tree import DecisionTreeClassifier\n",
    "\n",
    "#Importing libraries\n",
    "from scipy.io import arff\n",
    "import pandas as pd\n",
    "import numpy as np\n",
    "pd.set_option(\"display.max_columns\",None)\n",
    "from collections import Counter\n",
    "import matplotlib.pyplot as plt\n",
    "%matplotlib inline\n",
    "\n"
   ]
  },
  {
   "cell_type": "markdown",
   "id": "5f9db3fb",
   "metadata": {},
   "source": [
    "### Data Importation"
   ]
  },
  {
   "cell_type": "code",
   "execution_count": 30,
   "id": "f692bff8",
   "metadata": {},
   "outputs": [
    {
     "data": {
      "text/html": [
       "<div>\n",
       "<style scoped>\n",
       "    .dataframe tbody tr th:only-of-type {\n",
       "        vertical-align: middle;\n",
       "    }\n",
       "\n",
       "    .dataframe tbody tr th {\n",
       "        vertical-align: top;\n",
       "    }\n",
       "\n",
       "    .dataframe thead th {\n",
       "        text-align: right;\n",
       "    }\n",
       "</style>\n",
       "<table border=\"1\" class=\"dataframe\">\n",
       "  <thead>\n",
       "    <tr style=\"text-align: right;\">\n",
       "      <th></th>\n",
       "      <th>age</th>\n",
       "      <th>bp</th>\n",
       "      <th>sg</th>\n",
       "      <th>al</th>\n",
       "      <th>su</th>\n",
       "      <th>rbc</th>\n",
       "      <th>pc</th>\n",
       "      <th>pcc</th>\n",
       "      <th>ba</th>\n",
       "      <th>bgr</th>\n",
       "      <th>bu</th>\n",
       "      <th>sc</th>\n",
       "      <th>sod</th>\n",
       "      <th>pot</th>\n",
       "      <th>hemo</th>\n",
       "      <th>pcv</th>\n",
       "      <th>wbcc</th>\n",
       "      <th>rbcc</th>\n",
       "      <th>htn</th>\n",
       "      <th>dm</th>\n",
       "      <th>cad</th>\n",
       "      <th>appet</th>\n",
       "      <th>pe</th>\n",
       "      <th>ane</th>\n",
       "      <th>class</th>\n",
       "    </tr>\n",
       "  </thead>\n",
       "  <tbody>\n",
       "    <tr>\n",
       "      <th>0</th>\n",
       "      <td>48.0</td>\n",
       "      <td>80.0</td>\n",
       "      <td>b'1.020'</td>\n",
       "      <td>b'1'</td>\n",
       "      <td>b'0'</td>\n",
       "      <td>b'?'</td>\n",
       "      <td>b'normal'</td>\n",
       "      <td>b'notpresent'</td>\n",
       "      <td>b'notpresent'</td>\n",
       "      <td>121.0</td>\n",
       "      <td>36.0</td>\n",
       "      <td>1.2</td>\n",
       "      <td>NaN</td>\n",
       "      <td>NaN</td>\n",
       "      <td>15.4</td>\n",
       "      <td>44.0</td>\n",
       "      <td>7800.0</td>\n",
       "      <td>5.2</td>\n",
       "      <td>b'yes'</td>\n",
       "      <td>b'yes'</td>\n",
       "      <td>b'no'</td>\n",
       "      <td>b'good'</td>\n",
       "      <td>b'no'</td>\n",
       "      <td>b'no'</td>\n",
       "      <td>b'ckd'</td>\n",
       "    </tr>\n",
       "    <tr>\n",
       "      <th>1</th>\n",
       "      <td>7.0</td>\n",
       "      <td>50.0</td>\n",
       "      <td>b'1.020'</td>\n",
       "      <td>b'4'</td>\n",
       "      <td>b'0'</td>\n",
       "      <td>b'?'</td>\n",
       "      <td>b'normal'</td>\n",
       "      <td>b'notpresent'</td>\n",
       "      <td>b'notpresent'</td>\n",
       "      <td>NaN</td>\n",
       "      <td>18.0</td>\n",
       "      <td>0.8</td>\n",
       "      <td>NaN</td>\n",
       "      <td>NaN</td>\n",
       "      <td>11.3</td>\n",
       "      <td>38.0</td>\n",
       "      <td>6000.0</td>\n",
       "      <td>NaN</td>\n",
       "      <td>b'no'</td>\n",
       "      <td>b'no'</td>\n",
       "      <td>b'no'</td>\n",
       "      <td>b'good'</td>\n",
       "      <td>b'no'</td>\n",
       "      <td>b'no'</td>\n",
       "      <td>b'ckd'</td>\n",
       "    </tr>\n",
       "    <tr>\n",
       "      <th>2</th>\n",
       "      <td>62.0</td>\n",
       "      <td>80.0</td>\n",
       "      <td>b'1.010'</td>\n",
       "      <td>b'2'</td>\n",
       "      <td>b'3'</td>\n",
       "      <td>b'normal'</td>\n",
       "      <td>b'normal'</td>\n",
       "      <td>b'notpresent'</td>\n",
       "      <td>b'notpresent'</td>\n",
       "      <td>423.0</td>\n",
       "      <td>53.0</td>\n",
       "      <td>1.8</td>\n",
       "      <td>NaN</td>\n",
       "      <td>NaN</td>\n",
       "      <td>9.6</td>\n",
       "      <td>31.0</td>\n",
       "      <td>7500.0</td>\n",
       "      <td>NaN</td>\n",
       "      <td>b'no'</td>\n",
       "      <td>b'yes'</td>\n",
       "      <td>b'no'</td>\n",
       "      <td>b'poor'</td>\n",
       "      <td>b'no'</td>\n",
       "      <td>b'yes'</td>\n",
       "      <td>b'ckd'</td>\n",
       "    </tr>\n",
       "    <tr>\n",
       "      <th>3</th>\n",
       "      <td>48.0</td>\n",
       "      <td>70.0</td>\n",
       "      <td>b'1.005'</td>\n",
       "      <td>b'4'</td>\n",
       "      <td>b'0'</td>\n",
       "      <td>b'normal'</td>\n",
       "      <td>b'abnormal'</td>\n",
       "      <td>b'present'</td>\n",
       "      <td>b'notpresent'</td>\n",
       "      <td>117.0</td>\n",
       "      <td>56.0</td>\n",
       "      <td>3.8</td>\n",
       "      <td>111.0</td>\n",
       "      <td>2.5</td>\n",
       "      <td>11.2</td>\n",
       "      <td>32.0</td>\n",
       "      <td>6700.0</td>\n",
       "      <td>3.9</td>\n",
       "      <td>b'yes'</td>\n",
       "      <td>b'no'</td>\n",
       "      <td>b'no'</td>\n",
       "      <td>b'poor'</td>\n",
       "      <td>b'yes'</td>\n",
       "      <td>b'yes'</td>\n",
       "      <td>b'ckd'</td>\n",
       "    </tr>\n",
       "    <tr>\n",
       "      <th>4</th>\n",
       "      <td>51.0</td>\n",
       "      <td>80.0</td>\n",
       "      <td>b'1.010'</td>\n",
       "      <td>b'2'</td>\n",
       "      <td>b'0'</td>\n",
       "      <td>b'normal'</td>\n",
       "      <td>b'normal'</td>\n",
       "      <td>b'notpresent'</td>\n",
       "      <td>b'notpresent'</td>\n",
       "      <td>106.0</td>\n",
       "      <td>26.0</td>\n",
       "      <td>1.4</td>\n",
       "      <td>NaN</td>\n",
       "      <td>NaN</td>\n",
       "      <td>11.6</td>\n",
       "      <td>35.0</td>\n",
       "      <td>7300.0</td>\n",
       "      <td>4.6</td>\n",
       "      <td>b'no'</td>\n",
       "      <td>b'no'</td>\n",
       "      <td>b'no'</td>\n",
       "      <td>b'good'</td>\n",
       "      <td>b'no'</td>\n",
       "      <td>b'no'</td>\n",
       "      <td>b'ckd'</td>\n",
       "    </tr>\n",
       "    <tr>\n",
       "      <th>...</th>\n",
       "      <td>...</td>\n",
       "      <td>...</td>\n",
       "      <td>...</td>\n",
       "      <td>...</td>\n",
       "      <td>...</td>\n",
       "      <td>...</td>\n",
       "      <td>...</td>\n",
       "      <td>...</td>\n",
       "      <td>...</td>\n",
       "      <td>...</td>\n",
       "      <td>...</td>\n",
       "      <td>...</td>\n",
       "      <td>...</td>\n",
       "      <td>...</td>\n",
       "      <td>...</td>\n",
       "      <td>...</td>\n",
       "      <td>...</td>\n",
       "      <td>...</td>\n",
       "      <td>...</td>\n",
       "      <td>...</td>\n",
       "      <td>...</td>\n",
       "      <td>...</td>\n",
       "      <td>...</td>\n",
       "      <td>...</td>\n",
       "      <td>...</td>\n",
       "    </tr>\n",
       "    <tr>\n",
       "      <th>395</th>\n",
       "      <td>55.0</td>\n",
       "      <td>80.0</td>\n",
       "      <td>b'1.020'</td>\n",
       "      <td>b'0'</td>\n",
       "      <td>b'0'</td>\n",
       "      <td>b'normal'</td>\n",
       "      <td>b'normal'</td>\n",
       "      <td>b'notpresent'</td>\n",
       "      <td>b'notpresent'</td>\n",
       "      <td>140.0</td>\n",
       "      <td>49.0</td>\n",
       "      <td>0.5</td>\n",
       "      <td>150.0</td>\n",
       "      <td>4.9</td>\n",
       "      <td>15.7</td>\n",
       "      <td>47.0</td>\n",
       "      <td>6700.0</td>\n",
       "      <td>4.9</td>\n",
       "      <td>b'no'</td>\n",
       "      <td>b'no'</td>\n",
       "      <td>b'no'</td>\n",
       "      <td>b'good'</td>\n",
       "      <td>b'no'</td>\n",
       "      <td>b'no'</td>\n",
       "      <td>b'notckd'</td>\n",
       "    </tr>\n",
       "    <tr>\n",
       "      <th>396</th>\n",
       "      <td>42.0</td>\n",
       "      <td>70.0</td>\n",
       "      <td>b'1.025'</td>\n",
       "      <td>b'0'</td>\n",
       "      <td>b'0'</td>\n",
       "      <td>b'normal'</td>\n",
       "      <td>b'normal'</td>\n",
       "      <td>b'notpresent'</td>\n",
       "      <td>b'notpresent'</td>\n",
       "      <td>75.0</td>\n",
       "      <td>31.0</td>\n",
       "      <td>1.2</td>\n",
       "      <td>141.0</td>\n",
       "      <td>3.5</td>\n",
       "      <td>16.5</td>\n",
       "      <td>54.0</td>\n",
       "      <td>7800.0</td>\n",
       "      <td>6.2</td>\n",
       "      <td>b'no'</td>\n",
       "      <td>b'no'</td>\n",
       "      <td>b'no'</td>\n",
       "      <td>b'good'</td>\n",
       "      <td>b'no'</td>\n",
       "      <td>b'no'</td>\n",
       "      <td>b'notckd'</td>\n",
       "    </tr>\n",
       "    <tr>\n",
       "      <th>397</th>\n",
       "      <td>12.0</td>\n",
       "      <td>80.0</td>\n",
       "      <td>b'1.020'</td>\n",
       "      <td>b'0'</td>\n",
       "      <td>b'0'</td>\n",
       "      <td>b'normal'</td>\n",
       "      <td>b'normal'</td>\n",
       "      <td>b'notpresent'</td>\n",
       "      <td>b'notpresent'</td>\n",
       "      <td>100.0</td>\n",
       "      <td>26.0</td>\n",
       "      <td>0.6</td>\n",
       "      <td>137.0</td>\n",
       "      <td>4.4</td>\n",
       "      <td>15.8</td>\n",
       "      <td>49.0</td>\n",
       "      <td>6600.0</td>\n",
       "      <td>5.4</td>\n",
       "      <td>b'no'</td>\n",
       "      <td>b'no'</td>\n",
       "      <td>b'no'</td>\n",
       "      <td>b'good'</td>\n",
       "      <td>b'no'</td>\n",
       "      <td>b'no'</td>\n",
       "      <td>b'notckd'</td>\n",
       "    </tr>\n",
       "    <tr>\n",
       "      <th>398</th>\n",
       "      <td>17.0</td>\n",
       "      <td>60.0</td>\n",
       "      <td>b'1.025'</td>\n",
       "      <td>b'0'</td>\n",
       "      <td>b'0'</td>\n",
       "      <td>b'normal'</td>\n",
       "      <td>b'normal'</td>\n",
       "      <td>b'notpresent'</td>\n",
       "      <td>b'notpresent'</td>\n",
       "      <td>114.0</td>\n",
       "      <td>50.0</td>\n",
       "      <td>1.0</td>\n",
       "      <td>135.0</td>\n",
       "      <td>4.9</td>\n",
       "      <td>14.2</td>\n",
       "      <td>51.0</td>\n",
       "      <td>7200.0</td>\n",
       "      <td>5.9</td>\n",
       "      <td>b'no'</td>\n",
       "      <td>b'no'</td>\n",
       "      <td>b'no'</td>\n",
       "      <td>b'good'</td>\n",
       "      <td>b'no'</td>\n",
       "      <td>b'no'</td>\n",
       "      <td>b'notckd'</td>\n",
       "    </tr>\n",
       "    <tr>\n",
       "      <th>399</th>\n",
       "      <td>58.0</td>\n",
       "      <td>80.0</td>\n",
       "      <td>b'1.025'</td>\n",
       "      <td>b'0'</td>\n",
       "      <td>b'0'</td>\n",
       "      <td>b'normal'</td>\n",
       "      <td>b'normal'</td>\n",
       "      <td>b'notpresent'</td>\n",
       "      <td>b'notpresent'</td>\n",
       "      <td>131.0</td>\n",
       "      <td>18.0</td>\n",
       "      <td>1.1</td>\n",
       "      <td>141.0</td>\n",
       "      <td>3.5</td>\n",
       "      <td>15.8</td>\n",
       "      <td>53.0</td>\n",
       "      <td>6800.0</td>\n",
       "      <td>6.1</td>\n",
       "      <td>b'no'</td>\n",
       "      <td>b'no'</td>\n",
       "      <td>b'no'</td>\n",
       "      <td>b'good'</td>\n",
       "      <td>b'no'</td>\n",
       "      <td>b'no'</td>\n",
       "      <td>b'notckd'</td>\n",
       "    </tr>\n",
       "  </tbody>\n",
       "</table>\n",
       "<p>400 rows × 25 columns</p>\n",
       "</div>"
      ],
      "text/plain": [
       "      age    bp        sg    al    su        rbc           pc            pcc  \\\n",
       "0    48.0  80.0  b'1.020'  b'1'  b'0'       b'?'    b'normal'  b'notpresent'   \n",
       "1     7.0  50.0  b'1.020'  b'4'  b'0'       b'?'    b'normal'  b'notpresent'   \n",
       "2    62.0  80.0  b'1.010'  b'2'  b'3'  b'normal'    b'normal'  b'notpresent'   \n",
       "3    48.0  70.0  b'1.005'  b'4'  b'0'  b'normal'  b'abnormal'     b'present'   \n",
       "4    51.0  80.0  b'1.010'  b'2'  b'0'  b'normal'    b'normal'  b'notpresent'   \n",
       "..    ...   ...       ...   ...   ...        ...          ...            ...   \n",
       "395  55.0  80.0  b'1.020'  b'0'  b'0'  b'normal'    b'normal'  b'notpresent'   \n",
       "396  42.0  70.0  b'1.025'  b'0'  b'0'  b'normal'    b'normal'  b'notpresent'   \n",
       "397  12.0  80.0  b'1.020'  b'0'  b'0'  b'normal'    b'normal'  b'notpresent'   \n",
       "398  17.0  60.0  b'1.025'  b'0'  b'0'  b'normal'    b'normal'  b'notpresent'   \n",
       "399  58.0  80.0  b'1.025'  b'0'  b'0'  b'normal'    b'normal'  b'notpresent'   \n",
       "\n",
       "                ba    bgr    bu   sc    sod  pot  hemo   pcv    wbcc  rbcc  \\\n",
       "0    b'notpresent'  121.0  36.0  1.2    NaN  NaN  15.4  44.0  7800.0   5.2   \n",
       "1    b'notpresent'    NaN  18.0  0.8    NaN  NaN  11.3  38.0  6000.0   NaN   \n",
       "2    b'notpresent'  423.0  53.0  1.8    NaN  NaN   9.6  31.0  7500.0   NaN   \n",
       "3    b'notpresent'  117.0  56.0  3.8  111.0  2.5  11.2  32.0  6700.0   3.9   \n",
       "4    b'notpresent'  106.0  26.0  1.4    NaN  NaN  11.6  35.0  7300.0   4.6   \n",
       "..             ...    ...   ...  ...    ...  ...   ...   ...     ...   ...   \n",
       "395  b'notpresent'  140.0  49.0  0.5  150.0  4.9  15.7  47.0  6700.0   4.9   \n",
       "396  b'notpresent'   75.0  31.0  1.2  141.0  3.5  16.5  54.0  7800.0   6.2   \n",
       "397  b'notpresent'  100.0  26.0  0.6  137.0  4.4  15.8  49.0  6600.0   5.4   \n",
       "398  b'notpresent'  114.0  50.0  1.0  135.0  4.9  14.2  51.0  7200.0   5.9   \n",
       "399  b'notpresent'  131.0  18.0  1.1  141.0  3.5  15.8  53.0  6800.0   6.1   \n",
       "\n",
       "        htn      dm    cad    appet      pe     ane      class  \n",
       "0    b'yes'  b'yes'  b'no'  b'good'   b'no'   b'no'     b'ckd'  \n",
       "1     b'no'   b'no'  b'no'  b'good'   b'no'   b'no'     b'ckd'  \n",
       "2     b'no'  b'yes'  b'no'  b'poor'   b'no'  b'yes'     b'ckd'  \n",
       "3    b'yes'   b'no'  b'no'  b'poor'  b'yes'  b'yes'     b'ckd'  \n",
       "4     b'no'   b'no'  b'no'  b'good'   b'no'   b'no'     b'ckd'  \n",
       "..      ...     ...    ...      ...     ...     ...        ...  \n",
       "395   b'no'   b'no'  b'no'  b'good'   b'no'   b'no'  b'notckd'  \n",
       "396   b'no'   b'no'  b'no'  b'good'   b'no'   b'no'  b'notckd'  \n",
       "397   b'no'   b'no'  b'no'  b'good'   b'no'   b'no'  b'notckd'  \n",
       "398   b'no'   b'no'  b'no'  b'good'   b'no'   b'no'  b'notckd'  \n",
       "399   b'no'   b'no'  b'no'  b'good'   b'no'   b'no'  b'notckd'  \n",
       "\n",
       "[400 rows x 25 columns]"
      ]
     },
     "execution_count": 30,
     "metadata": {},
     "output_type": "execute_result"
    }
   ],
   "source": [
    "#Importing dataset\n",
    "data = arff.loadarff(r'C:\\Users\\Administrator\\Downloads\\ML project\\chronic_kidney_disease.arff')\n",
    "df=pd.DataFrame(data[0])\n",
    "\n",
    "\n",
    "df"
   ]
  },
  {
   "cell_type": "code",
   "execution_count": 31,
   "id": "f47a5b73",
   "metadata": {},
   "outputs": [],
   "source": [
    "#run only once\n",
    "columns_to_decode=['sg','al','su','rbc','pc','pcc','ba','htn','dm','cad','appet','pe','ane','class']\n",
    "def fun_decode(columns,df):\n",
    "    for col in columns :\n",
    "        df[col]=df[col].str.decode('utf-8')\n",
    "fun_decode(columns_to_decode,df)\n"
   ]
  },
  {
   "cell_type": "code",
   "execution_count": 32,
   "id": "32f19805",
   "metadata": {},
   "outputs": [],
   "source": [
    "df=df.replace('?', np.nan)"
   ]
  },
  {
   "cell_type": "code",
   "execution_count": 33,
   "id": "066c6d2b",
   "metadata": {},
   "outputs": [],
   "source": [
    "df[\"sg\"] = df[\"sg\"].astype(float)\n",
    "df[\"al\"] = df[\"al\"].astype(float)\n",
    "df[\"su\"] = df[\"su\"].astype(float)\n"
   ]
  },
  {
   "cell_type": "code",
   "execution_count": 34,
   "id": "a93ba97d",
   "metadata": {},
   "outputs": [
    {
     "data": {
      "text/plain": [
       "age      float64\n",
       "bp       float64\n",
       "sg       float64\n",
       "al       float64\n",
       "su       float64\n",
       "rbc       object\n",
       "pc        object\n",
       "pcc       object\n",
       "ba        object\n",
       "bgr      float64\n",
       "bu       float64\n",
       "sc       float64\n",
       "sod      float64\n",
       "pot      float64\n",
       "hemo     float64\n",
       "pcv      float64\n",
       "wbcc     float64\n",
       "rbcc     float64\n",
       "htn       object\n",
       "dm        object\n",
       "cad       object\n",
       "appet     object\n",
       "pe        object\n",
       "ane       object\n",
       "class     object\n",
       "dtype: object"
      ]
     },
     "execution_count": 34,
     "metadata": {},
     "output_type": "execute_result"
    }
   ],
   "source": [
    "df.dtypes"
   ]
  },
  {
   "cell_type": "code",
   "execution_count": 35,
   "id": "1e4cf912",
   "metadata": {},
   "outputs": [],
   "source": [
    "object_cols=['rbc', 'pc', 'pcc', 'ba', 'htn', 'dm', 'cad', 'appet', 'pe', 'ane', 'class']"
   ]
  },
  {
   "cell_type": "code",
   "execution_count": 36,
   "id": "b18804d5",
   "metadata": {},
   "outputs": [],
   "source": [
    "#data encoding\n",
    "from sklearn import preprocessing\n",
    "label_encoder = preprocessing.LabelEncoder()\n",
    "for col in object_cols:\n",
    "    df[col]= label_encoder.fit_transform(df[col])"
   ]
  },
  {
   "cell_type": "code",
   "execution_count": 37,
   "id": "0ed21f0a",
   "metadata": {},
   "outputs": [],
   "source": [
    "#Replacing missing data with KNN imputer"
   ]
  },
  {
   "cell_type": "code",
   "execution_count": 38,
   "id": "6d5939a7",
   "metadata": {},
   "outputs": [
    {
     "data": {
      "text/plain": [
       "KNNImputer(n_neighbors=3)"
      ]
     },
     "execution_count": 38,
     "metadata": {},
     "output_type": "execute_result"
    }
   ],
   "source": [
    "imputer = KNNImputer(n_neighbors=3)\n",
    "imputer.fit(df)"
   ]
  },
  {
   "cell_type": "code",
   "execution_count": 39,
   "id": "7ad3a909",
   "metadata": {},
   "outputs": [],
   "source": [
    "dataa = imputer.transform(df)"
   ]
  },
  {
   "cell_type": "code",
   "execution_count": 40,
   "id": "c49e0ae1",
   "metadata": {},
   "outputs": [],
   "source": [
    "df = pd.DataFrame(dataa, index=df.index, columns=df.columns)"
   ]
  },
  {
   "cell_type": "markdown",
   "id": "a787f25d",
   "metadata": {},
   "source": [
    "## Dimensionality Reduction"
   ]
  },
  {
   "cell_type": "code",
   "execution_count": 48,
   "id": "a1ef832f",
   "metadata": {},
   "outputs": [],
   "source": [
    "#input split\n",
    "X=df.drop(columns=[\"class\"],axis=1)\n",
    "y=df[\"class\"]\n"
   ]
  },
  {
   "cell_type": "markdown",
   "id": "3f9f8576",
   "metadata": {},
   "source": [
    "#### Data Normalization"
   ]
  },
  {
   "cell_type": "code",
   "execution_count": 49,
   "id": "7645b4b3",
   "metadata": {},
   "outputs": [],
   "source": [
    "sc = StandardScaler()\n",
    "X = sc.fit_transform(X)"
   ]
  },
  {
   "cell_type": "code",
   "execution_count": 50,
   "id": "3c1511bc",
   "metadata": {},
   "outputs": [
    {
     "data": {
      "text/plain": [
       "array([[-0.17846398,  0.27055543,  0.52321948, ..., -0.50798193,\n",
       "        -0.48451878, -0.4203414 ],\n",
       "       [-2.55476383, -1.94307992,  0.52321948, ..., -0.50798193,\n",
       "        -0.48451878, -0.4203414 ],\n",
       "       [ 0.63295548,  0.27055543, -1.30196476, ...,  1.91097964,\n",
       "        -0.48451878,  2.29153859],\n",
       "       ...,\n",
       "       [-2.26497116,  0.27055543,  0.52321948, ..., -0.50798193,\n",
       "        -0.48451878, -0.4203414 ],\n",
       "       [-1.9751785 , -1.20520147,  1.43581161, ..., -0.50798193,\n",
       "        -0.48451878, -0.4203414 ],\n",
       "       [ 0.40112135,  0.27055543,  1.43581161, ..., -0.50798193,\n",
       "        -0.48451878, -0.4203414 ]])"
      ]
     },
     "execution_count": 50,
     "metadata": {},
     "output_type": "execute_result"
    }
   ],
   "source": [
    "X"
   ]
  },
  {
   "cell_type": "markdown",
   "id": "b2c628a0",
   "metadata": {},
   "source": [
    "#### Dimensionality reduction with pca"
   ]
  },
  {
   "cell_type": "code",
   "execution_count": 51,
   "id": "66c218bd",
   "metadata": {},
   "outputs": [],
   "source": [
    "pca = PCA(svd_solver=\"full\")\n",
    "pc = pca.fit_transform(X)"
   ]
  },
  {
   "cell_type": "markdown",
   "id": "6dee21d1",
   "metadata": {},
   "source": [
    "#####  explained_variance_ratio_ représente le pourcentage de variance expliquée par chacune des composantes principales"
   ]
  },
  {
   "cell_type": "code",
   "execution_count": 52,
   "id": "14b2a950",
   "metadata": {},
   "outputs": [
    {
     "data": {
      "text/plain": [
       "array([27.14683525,  8.41957232,  7.48245614,  5.88096883,  5.22353162,\n",
       "        4.82751564,  4.36444025,  4.12852668,  3.82451769,  3.59446281,\n",
       "        3.17565431,  2.97365817,  2.65062564,  2.2857511 ,  2.25663436,\n",
       "        1.90413772,  1.71330831,  1.6391307 ,  1.45980963,  1.34250681,\n",
       "        1.17734972,  1.11028153,  0.90769274,  0.51063204])"
      ]
     },
     "execution_count": 52,
     "metadata": {},
     "output_type": "execute_result"
    }
   ],
   "source": [
    "pca.explained_variance_ratio_*100"
   ]
  },
  {
   "cell_type": "markdown",
   "id": "265214a2",
   "metadata": {},
   "source": [
    "#### We clearly see  :\n",
    "####  PC1 represents 28,58 % of the total variance (information).\n",
    "#### the other components represnet  71,42 % of the total variance.\n",
    "#### So  what's the number of components to retain ?\n",
    "#### With the Kaiser rule , it is recommanded to retain the pca with eigen values superior to 1.\n",
    "#### We can also use the albow rule\n",
    "#### However, as this is a classification problem, the number of principal components to retain should be based on the performance of the classification."
   ]
  },
  {
   "cell_type": "markdown",
   "id": "ed0a3039",
   "metadata": {},
   "source": [
    "# Classification"
   ]
  },
  {
   "cell_type": "markdown",
   "id": "b7c93e0b",
   "metadata": {},
   "source": [
    "##### We define a pipeline Gridsearch to determine the best combinisation of  PCA n_components and the hyperparamètres of the classifier ."
   ]
  },
  {
   "cell_type": "markdown",
   "id": "b1a377da",
   "metadata": {},
   "source": [
    "## Logistic Regression"
   ]
  },
  {
   "cell_type": "code",
   "execution_count": 53,
   "id": "fa0834ac",
   "metadata": {},
   "outputs": [
    {
     "name": "stdout",
     "output_type": "stream",
     "text": [
      "{'logistic__C': 1.0, 'pca__n_components': 13}\n"
     ]
    }
   ],
   "source": [
    "pca = PCA()\n",
    "logistic_regression = LogisticRegression(max_iter=10000)\n",
    "pipe = Pipeline(steps=[(\"pca\", pca), (\"logistic\", logistic_regression)])\n",
    "\n",
    "hyperparameters = {\n",
    "    \"pca__n_components\": list(range(1,25)),\n",
    "    \"logistic__C\": np.logspace(-3, 3, 7)\n",
    "}\n",
    "cv = GridSearchCV(pipe, hyperparameters, cv=10, n_jobs=2)\n",
    "cv.fit(X, y)\n",
    "print(cv.best_params_)"
   ]
  },
  {
   "cell_type": "code",
   "execution_count": 54,
   "id": "04f79bb4",
   "metadata": {},
   "outputs": [],
   "source": [
    "pca = PCA(n_components=18)\n",
    "pc = pca.fit_transform(X)"
   ]
  },
  {
   "cell_type": "code",
   "execution_count": 55,
   "id": "2000a170",
   "metadata": {},
   "outputs": [],
   "source": [
    "X_train, X_test, y_train, y_test = train_test_split(pc, y, test_size=0.3, random_state=1024)"
   ]
  },
  {
   "cell_type": "code",
   "execution_count": 56,
   "id": "7de49bdc",
   "metadata": {},
   "outputs": [
    {
     "data": {
      "text/plain": [
       "LogisticRegression(C=10.0)"
      ]
     },
     "execution_count": 56,
     "metadata": {},
     "output_type": "execute_result"
    }
   ],
   "source": [
    "logistic_regression = LogisticRegression(C = 10.0)\n",
    "logistic_regression.fit(X_train, y_train)"
   ]
  },
  {
   "cell_type": "code",
   "execution_count": 57,
   "id": "bf3e76b0",
   "metadata": {},
   "outputs": [
    {
     "name": "stdout",
     "output_type": "stream",
     "text": [
      "              precision    recall  f1-score   support\n",
      "\n",
      "         0.0       0.99      0.97      0.98        74\n",
      "         1.0       0.96      0.98      0.97        46\n",
      "\n",
      "    accuracy                           0.97       120\n",
      "   macro avg       0.97      0.98      0.97       120\n",
      "weighted avg       0.98      0.97      0.98       120\n",
      "\n"
     ]
    }
   ],
   "source": [
    "y_pred_lr = logistic_regression.predict(X_test)\n",
    "print(classification_report(y_test, y_pred_lr))"
   ]
  },
  {
   "cell_type": "markdown",
   "id": "f7068b89",
   "metadata": {},
   "source": [
    "## KNN"
   ]
  },
  {
   "cell_type": "code",
   "execution_count": 58,
   "id": "9697df34",
   "metadata": {},
   "outputs": [
    {
     "name": "stdout",
     "output_type": "stream",
     "text": [
      "{'knn__leaf_size': 1, 'knn__n_neighbors': 1, 'knn__p': 2, 'pca__n_components': 7}\n"
     ]
    }
   ],
   "source": [
    "pca = PCA()\n",
    "knn = KNeighborsClassifier()\n",
    "pipe = Pipeline(steps=[(\"pca\", pca), (\"knn\", knn)])\n",
    "\n",
    "hyperparameters = {\n",
    "    \"pca__n_components\": list(range(1,25)),\n",
    "    'knn__leaf_size' : list(range(1,30)),\n",
    "    'knn__n_neighbors' : list(range(1,25)),\n",
    "    'knn__p' : [1,2]\n",
    "}\n",
    "cv = GridSearchCV(pipe, hyperparameters, cv=10, n_jobs=-1)\n",
    "cv.fit(X, y)\n",
    "print(cv.best_params_)"
   ]
  },
  {
   "cell_type": "code",
   "execution_count": 59,
   "id": "bbaf5abf",
   "metadata": {},
   "outputs": [],
   "source": [
    "pca = PCA(n_components=5)\n",
    "pc = pca.fit_transform(X)"
   ]
  },
  {
   "cell_type": "code",
   "execution_count": 60,
   "id": "7e96870e",
   "metadata": {},
   "outputs": [],
   "source": [
    "X_train, X_test, y_train, y_test = train_test_split(pc, y, test_size=0.3, random_state=1024)"
   ]
  },
  {
   "cell_type": "code",
   "execution_count": 61,
   "id": "128f6ca4",
   "metadata": {},
   "outputs": [
    {
     "data": {
      "text/plain": [
       "KNeighborsClassifier(leaf_size=1, n_neighbors=6, p=1)"
      ]
     },
     "execution_count": 61,
     "metadata": {},
     "output_type": "execute_result"
    }
   ],
   "source": [
    "knn = KNeighborsClassifier(leaf_size=1, p=1, n_neighbors=6)\n",
    "knn.fit(X_train, y_train)"
   ]
  },
  {
   "cell_type": "code",
   "execution_count": 62,
   "id": "5d2ea419",
   "metadata": {},
   "outputs": [
    {
     "name": "stdout",
     "output_type": "stream",
     "text": [
      "              precision    recall  f1-score   support\n",
      "\n",
      "         0.0       0.97      0.99      0.98        74\n",
      "         1.0       0.98      0.96      0.97        46\n",
      "\n",
      "    accuracy                           0.97       120\n",
      "   macro avg       0.98      0.97      0.97       120\n",
      "weighted avg       0.98      0.97      0.97       120\n",
      "\n"
     ]
    },
    {
     "name": "stderr",
     "output_type": "stream",
     "text": [
      "C:\\ProgramData\\Anaconda3\\lib\\site-packages\\sklearn\\neighbors\\_classification.py:228: FutureWarning: Unlike other reduction functions (e.g. `skew`, `kurtosis`), the default behavior of `mode` typically preserves the axis it acts along. In SciPy 1.11.0, this behavior will change: the default value of `keepdims` will become False, the `axis` over which the statistic is taken will be eliminated, and the value None will no longer be accepted. Set `keepdims` to True or False to avoid this warning.\n",
      "  mode, _ = stats.mode(_y[neigh_ind, k], axis=1)\n"
     ]
    }
   ],
   "source": [
    "y_pred_knn = knn.predict(X_test)\n",
    "print(classification_report(y_test, y_pred_knn))"
   ]
  },
  {
   "cell_type": "markdown",
   "id": "8a54b7a5",
   "metadata": {},
   "source": [
    "## SVM"
   ]
  },
  {
   "cell_type": "code",
   "execution_count": 63,
   "id": "b0de5dea",
   "metadata": {},
   "outputs": [
    {
     "name": "stdout",
     "output_type": "stream",
     "text": [
      "{'pca__n_components': 14, 'svm__C': 1000, 'svm__gamma': 0.001, 'svm__kernel': 'rbf'}\n"
     ]
    }
   ],
   "source": [
    "pca = PCA()\n",
    "svm = SVC()\n",
    "pipe = Pipeline(steps=[(\"pca\", pca), (\"svm\", svm)])\n",
    "\n",
    "hyperparameters = {\n",
    "    \"pca__n_components\": list(range(1,25)),\n",
    "    'svm__C': [1, 10, 100, 1000],\n",
    "    'svm__gamma': [1, 0.1, 0.01, 0.001, 0.0001], \n",
    "    'svm__kernel': ['linear', 'poly', 'sigmoid', 'rbf']\n",
    "}\n",
    "\n",
    "cv = GridSearchCV(pipe, hyperparameters, cv=10, n_jobs=2)\n",
    "cv.fit(X, y)\n",
    "print(cv.best_params_)"
   ]
  },
  {
   "cell_type": "code",
   "execution_count": 64,
   "id": "c1437376",
   "metadata": {},
   "outputs": [],
   "source": [
    "pca = PCA(n_components=19)\n",
    "pc = pca.fit_transform(X)\n",
    "X_train, X_test, y_train, y_test = train_test_split(pc, y, test_size=0.3, random_state=1024)"
   ]
  },
  {
   "cell_type": "code",
   "execution_count": 65,
   "id": "3a2c26de",
   "metadata": {},
   "outputs": [
    {
     "data": {
      "text/plain": [
       "SVC(C=10, gamma=0.01, kernel='sigmoid')"
      ]
     },
     "execution_count": 65,
     "metadata": {},
     "output_type": "execute_result"
    }
   ],
   "source": [
    "svm = SVC(C=10, gamma=0.01, kernel='sigmoid')\n",
    "svm.fit(X_train, y_train)"
   ]
  },
  {
   "cell_type": "code",
   "execution_count": 66,
   "id": "0d951cf6",
   "metadata": {},
   "outputs": [
    {
     "name": "stdout",
     "output_type": "stream",
     "text": [
      "              precision    recall  f1-score   support\n",
      "\n",
      "         0.0       0.99      0.99      0.99        74\n",
      "         1.0       0.98      0.98      0.98        46\n",
      "\n",
      "    accuracy                           0.98       120\n",
      "   macro avg       0.98      0.98      0.98       120\n",
      "weighted avg       0.98      0.98      0.98       120\n",
      "\n"
     ]
    }
   ],
   "source": [
    "y_pred_svm = svm.predict(X_test)\n",
    "print(classification_report(y_test, y_pred_svm))"
   ]
  },
  {
   "cell_type": "markdown",
   "id": "1d93533d",
   "metadata": {},
   "source": [
    "## Decision Tree"
   ]
  },
  {
   "cell_type": "code",
   "execution_count": 67,
   "id": "d324a682",
   "metadata": {},
   "outputs": [
    {
     "name": "stdout",
     "output_type": "stream",
     "text": [
      "{'dct__ccp_alpha': 0.001, 'dct__criterion': 'gini', 'dct__max_depth': 7, 'dct__max_features': 'log2', 'pca__n_components': 9}\n"
     ]
    }
   ],
   "source": [
    "pca = PCA()\n",
    "decision_tree = DecisionTreeClassifier()\n",
    "pipe = Pipeline(steps=[(\"pca\", pca), (\"dct\", decision_tree)])\n",
    "\n",
    "hyperparameters = {\n",
    "    \"pca__n_components\": list(range(1,25)),\n",
    "    'dct__max_features': ['sqrt', 'log2'],\n",
    "    'dct__ccp_alpha': [0.1, 0.01, 0.001],\n",
    "    'dct__max_depth' : [5, 6, 7, 8, 9],\n",
    "    'dct__criterion' :['gini', 'entropy']\n",
    "}\n",
    "\n",
    "cv = GridSearchCV(pipe, hyperparameters, cv=10, n_jobs=-1)\n",
    "cv.fit(X, y)\n",
    "print(cv.best_params_)"
   ]
  },
  {
   "cell_type": "code",
   "execution_count": 68,
   "id": "6ca57b44",
   "metadata": {},
   "outputs": [],
   "source": [
    "pca = PCA(n_components=2)\n",
    "pc = pca.fit_transform(X)"
   ]
  },
  {
   "cell_type": "code",
   "execution_count": 69,
   "id": "695d1c20",
   "metadata": {},
   "outputs": [],
   "source": [
    "X_train, X_test, y_train, y_test = train_test_split(pc, y, test_size=0.3, random_state=1024)"
   ]
  },
  {
   "cell_type": "code",
   "execution_count": 70,
   "id": "68941862",
   "metadata": {},
   "outputs": [
    {
     "data": {
      "text/plain": [
       "DecisionTreeClassifier(ccp_alpha=0.001, criterion='entropy', max_depth=5,\n",
       "                       max_features='sqrt')"
      ]
     },
     "execution_count": 70,
     "metadata": {},
     "output_type": "execute_result"
    }
   ],
   "source": [
    "decision_tree = DecisionTreeClassifier(ccp_alpha=0.001, max_depth=5, max_features='sqrt', criterion=\"entropy\")\n",
    "decision_tree.fit(X_train, y_train)"
   ]
  },
  {
   "cell_type": "code",
   "execution_count": 71,
   "id": "7e1a4204",
   "metadata": {},
   "outputs": [
    {
     "name": "stdout",
     "output_type": "stream",
     "text": [
      "              precision    recall  f1-score   support\n",
      "\n",
      "         0.0       0.96      0.96      0.96        74\n",
      "         1.0       0.93      0.93      0.93        46\n",
      "\n",
      "    accuracy                           0.95       120\n",
      "   macro avg       0.95      0.95      0.95       120\n",
      "weighted avg       0.95      0.95      0.95       120\n",
      "\n"
     ]
    }
   ],
   "source": [
    "y_pred_dt = decision_tree.predict(X_test)\n",
    "print(classification_report(y_pred_dt, y_test))"
   ]
  },
  {
   "cell_type": "markdown",
   "id": "cd763eac",
   "metadata": {},
   "source": [
    "#### We can clearly see that dimensionality reduction using PCA gives really good results for different classification algorithms achieving 100% precision in logistic regression."
   ]
  }
 ],
 "metadata": {
  "kernelspec": {
   "display_name": "Python 3 (ipykernel)",
   "language": "python",
   "name": "python3"
  },
  "language_info": {
   "codemirror_mode": {
    "name": "ipython",
    "version": 3
   },
   "file_extension": ".py",
   "mimetype": "text/x-python",
   "name": "python",
   "nbconvert_exporter": "python",
   "pygments_lexer": "ipython3",
   "version": "3.9.13"
  }
 },
 "nbformat": 4,
 "nbformat_minor": 5
}
